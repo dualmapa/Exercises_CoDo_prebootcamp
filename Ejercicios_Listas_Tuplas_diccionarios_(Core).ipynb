{
  "nbformat": 4,
  "nbformat_minor": 0,
  "metadata": {
    "colab": {
      "provenance": []
    },
    "kernelspec": {
      "name": "python3",
      "display_name": "Python 3"
    },
    "language_info": {
      "name": "python"
    }
  },
  "cells": [
    {
      "cell_type": "markdown",
      "source": [
        "# **Ejercicios Listas, Tuplas y diccionarios (Core)**\n"
      ],
      "metadata": {
        "id": "Yg_NIWcx8kMg"
      }
    },
    {
      "cell_type": "code",
      "source": [
        "#Crea una lista de diccionarios llamada ventas, donde cada diccionario represente una venta. Cada venta debe incluir las siguientes claves:\n",
        "#«fecha»: una cadena de texto que represente la fecha de la venta (por ejemplo, «2024-01-01»).\n",
        "#«producto»: una cadena de texto que represente el nombre del producto vendido.\n",
        "#«cantidad»: un número entero que represente la cantidad de productos vendidos.\n",
        "#«precio»: un número flotante que represente el precio unitario del producto.\n",
        "\n",
        "ventas = [\n",
        "    {\"fecha\": \"2024-01-01\", \"producto\": \"Cuarzo maestro\", \"cantidad\": \"1\", \"precio\": \"11,1\"},\n",
        "    {\"fecha\": \"2024-01-02\", \"producto\": \"Cuarzo tamboreado\", \"cantidad\": \"3\", \"precio\": \"1,5\"},\n",
        "    {\"fecha\": \"2024-01-03\", \"producto\": \"Cuarzo geoda\", \"cantidad\": \"1\", \"precio\": \"33,3\"},\n",
        "    {\"fecha\": \"2024-01-03\", \"producto\": \"Cuarzo drusa\", \"cantidad\": \"2\", \"precio\": \"32,1\"},\n",
        "    {\"fecha\": \"2024-01-04\", \"producto\": \"Cuarzo maestro\", \"cantidad\": \"3\", \"precio\": \"22,2\"},\n",
        "    {\"fecha\": \"2024-01-05\", \"producto\": \"Cuarzo tamboreado\", \"cantidad\": \"10\", \"precio\": \"1,1\"},\n",
        "    {\"fecha\": \"2024-01-06\", \"producto\": \"Cuarzo matriz\", \"cantidad\": \"1\", \"precio\": \"111,1\"},\n",
        "    {\"fecha\": \"2024-01-06\", \"producto\": \"Cuarzo geoda\", \"cantidad\": \"1\", \"precio\": \"22,9\"},\n",
        "    {\"fecha\": \"2024-01-06\", \"producto\": \"Cuarzo drusa\", \"cantidad\": \"1\", \"precio\": \"32,3\"},\n",
        "    {\"fecha\": \"2024-01-07\", \"producto\": \"Cuarzo maestro\", \"cantidad\": \"10\", \"precio\": \"8,8\"},\n",
        "    {\"fecha\": \"2024-01-07\", \"producto\": \"Cuarzo tamboreado\", \"cantidad\": \"100\", \"precio\": \"0,5\"},\n",
        "    {\"fecha\": \"2024-01-08\", \"producto\": \"Cuarzo maestro\", \"cantidad\": \"2\", \"precio\": \"11,1\"},\n",
        "    {\"fecha\": \"2024-01-08\", \"producto\": \"Cuarzo tamboreado\", \"cantidad\": \"3\", \"precio\": \"1,5\"},\n",
        "    {\"fecha\": \"2024-01-08\", \"producto\": \"Cuarzo geoda\", \"cantidad\": \"2\", \"precio\": \"33,3\"},\n",
        "    {\"fecha\": \"2024-01-09\", \"producto\": \"Cuarzo drusa\", \"cantidad\": \"1\", \"precio\": \"88,8\"},\n",
        "    {\"fecha\": \"2024-01-09\", \"producto\": \"Cuarzo matriz\", \"cantidad\": \"1\", \"precio\": \"150,5\"},\n",
        "    {\"fecha\": \"2024-01-09\", \"producto\": \"Cuarzo maestro\", \"cantidad\": \"2\", \"precio\": \"11,1\"},\n",
        "    {\"fecha\": \"2024-01-09\", \"producto\": \"Cuarzo maestro\", \"cantidad\": \"3\", \"precio\": \"9,7\"},\n",
        "    {\"fecha\": \"2024-01-09\", \"producto\": \"Cuarzo tamboreado\", \"cantidad\": \"1\", \"precio\": \"1,1\"},\n",
        "    {\"fecha\": \"2024-01-10\", \"producto\": \"Cuarzo geoda\", \"cantidad\": \"1\", \"precio\": \"111,1\"},\n",
        "    {\"fecha\": \"2024-01-11\", \"producto\": \"Cuarzo matriz\", \"cantidad\": \"1\", \"precio\": \"300,0\"},\n",
        "    {\"fecha\": \"2024-01-11\", \"producto\": \"Cuarzo drusa\", \"cantidad\": \"1\", \"precio\": \"33,3\"},\n",
        "    {\"fecha\": \"2024-01-11\", \"producto\": \"Cuarzo maestro\", \"cantidad\": \"10\", \"precio\": \"7,9\"},\n",
        "    {\"fecha\": \"2024-01-11\", \"producto\": \"Cuarzo geoda\", \"cantidad\": \"5\", \"precio\": \"22,2\"},\n",
        "    {\"fecha\": \"2024-01-11\", \"producto\": \"Cuarzo drusa\", \"cantidad\": \"4\", \"precio\": \"11,5\"},\n",
        "    {\"fecha\": \"2024-01-12\", \"producto\": \"Cuarzo maestro\", \"cantidad\": \"1\", \"precio\": \"11,1\"},\n",
        "    {\"fecha\": \"2024-01-13\", \"producto\": \"Cuarzo tamboreado\", \"cantidad\": \"3\", \"precio\": \"1,5\"},\n",
        "    {\"fecha\": \"2024-01-14\", \"producto\": \"Cuarzo geoda\", \"cantidad\": \"1\", \"precio\": \"33,3\"},\n",
        "    {\"fecha\": \"2024-01-15\", \"producto\": \"Cuarzo drusa\", \"cantidad\": \"2\", \"precio\": \"32,1\"},\n",
        "    {\"fecha\": \"2024-01-16\", \"producto\": \"Cuarzo maestro\", \"cantidad\": \"3\", \"precio\": \"22,2\"},\n",
        "    {\"fecha\": \"2024-01-17\", \"producto\": \"Cuarzo tamboreado\", \"cantidad\": \"10\", \"precio\": \"1,1\"},\n",
        "    {\"fecha\": \"2024-01-18\", \"producto\": \"Cuarzo matriz\", \"cantidad\": \"1\", \"precio\": \"111,1\"},\n",
        "    {\"fecha\": \"2024-01-19\", \"producto\": \"Cuarzo geoda\", \"cantidad\": \"1\", \"precio\": \"22,9\"},\n",
        "    {\"fecha\": \"2024-01-20\", \"producto\": \"Cuarzo drusa\", \"cantidad\": \"1\", \"precio\": \"32,3\"},\n",
        "    {\"fecha\": \"2024-01-21\", \"producto\": \"Cuarzo maestro\", \"cantidad\": \"10\", \"precio\": \"8,8\"},\n",
        "    {\"fecha\": \"2024-01-22\", \"producto\": \"Cuarzo tamboreado\", \"cantidad\": \"100\", \"precio\": \"0,5\"},\n",
        "    {\"fecha\": \"2024-01-23\", \"producto\": \"Cuarzo maestro\", \"cantidad\": \"2\", \"precio\": \"11,1\"},\n",
        "    {\"fecha\": \"2024-01-24\", \"producto\": \"Cuarzo tamboreado\", \"cantidad\": \"3\", \"precio\": \"1,5\"},\n",
        "    {\"fecha\": \"2024-01-25\", \"producto\": \"Cuarzo geoda\", \"cantidad\": \"2\", \"precio\": \"33,3\"},\n",
        "    {\"fecha\": \"2024-01-26\", \"producto\": \"Cuarzo drusa\", \"cantidad\": \"1\", \"precio\": \"88,8\"},\n",
        "    {\"fecha\": \"2024-01-27\", \"producto\": \"Cuarzo matriz\", \"cantidad\": \"1\", \"precio\": \"150,5\"},\n",
        "    {\"fecha\": \"2024-01-28\", \"producto\": \"Cuarzo maestro\", \"cantidad\": \"2\", \"precio\": \"11,1\"},\n",
        "    {\"fecha\": \"2024-01-29\", \"producto\": \"Cuarzo maestro\", \"cantidad\": \"3\", \"precio\": \"9,7\"},\n",
        "    {\"fecha\": \"2024-01-30\", \"producto\": \"Cuarzo tamboreado\", \"cantidad\": \"1\", \"precio\": \"1,1\"},\n",
        "    {\"fecha\": \"2024-01-31\", \"producto\": \"Cuarzo geoda\", \"cantidad\": \"1\", \"precio\": \"111,1\"},\n",
        "    {\"fecha\": \"2024-01-31\", \"producto\": \"Cuarzo matriz\", \"cantidad\": \"1\", \"precio\": \"300,0\"},\n",
        "    {\"fecha\": \"2024-01-31\", \"producto\": \"Cuarzo drusa\", \"cantidad\": \"1\", \"precio\": \"33,3\"},\n",
        "    {\"fecha\": \"2024-01-31\", \"producto\": \"Cuarzo maestro\", \"cantidad\": \"10\", \"precio\": \"7,9\"},\n",
        "    {\"fecha\": \"2024-01-31\", \"producto\": \"Cuarzo geoda\", \"cantidad\": \"5\", \"precio\": \"22,2\"},\n",
        "    {\"fecha\": \"2024-01-31\", \"producto\": \"Cuarzo drusa\", \"cantidad\": \"4\", \"precio\": \"11,5\"},\n",
        "]"
      ],
      "metadata": {
        "id": "NEZGozEc5_d8"
      },
      "execution_count": 1,
      "outputs": []
    },
    {
      "cell_type": "code",
      "source": [
        "#Cálculo de Ingresos Totales:Utiliza un bucle para iterar sobre la lista ventas y calcular los ingresos totales generados por todas las ventas.\n",
        "#Los ingresos totales se calculan multiplicando la cantidad vendida por el precio unitario para cada venta y sumando los resultados.\n",
        "\n",
        "Ingresos_Totales = 0\n",
        "for venta in ventas:\n",
        "    cantidad = int(venta[\"cantidad\"])\n",
        "    precio = float(venta[\"precio\"].replace(\",\", \".\"))\n",
        "    ingresos = (cantidad * precio)\n",
        "    Ingresos_Totales += ingresos\n",
        "\n",
        "Ingresos_Totalesr = round(Ingresos_Totales, 2)\n",
        "Ingresos_Totalesr\n"
      ],
      "metadata": {
        "colab": {
          "base_uri": "https://localhost:8080/"
        },
        "id": "oWTMbbYq83UB",
        "outputId": "e1b8db95-a582-484d-d2b5-8547b51c65a9"
      },
      "execution_count": 2,
      "outputs": [
        {
          "output_type": "execute_result",
          "data": {
            "text/plain": [
              "3120.8"
            ]
          },
          "metadata": {},
          "execution_count": 2
        }
      ]
    },
    {
      "cell_type": "code",
      "source": [
        "#Análisis del Producto Más Vendido: Crea un diccionario llamado ventas_por_producto donde las claves sean los nombres de los productos\n",
        "#y los valores sean la cantidad total vendida de cada producto. Utiliza este diccionario para identificar el producto que tuvo la mayor cantidad total vendida.\n",
        "\n",
        "ventas_por_producto = {}\n",
        "for venta in ventas:\n",
        "    producto = venta[\"producto\"]\n",
        "    cantidad = int(venta[\"cantidad\"])\n",
        "    if producto in ventas_por_producto:\n",
        "        ventas_por_producto[producto] += cantidad\n",
        "    else:\n",
        "        ventas_por_producto[producto] = cantidad\n",
        "\n",
        "producto_mas_vendido = max(ventas_por_producto, key=ventas_por_producto.get)\n",
        "cantidad_mas_vendida = ventas_por_producto[producto_mas_vendido]\n",
        "\n",
        "print(f\"El producto más vendido fue {producto_mas_vendido} con una cantidad de {cantidad_mas_vendida} unidades vendidas.\")\n",
        "\n"
      ],
      "metadata": {
        "colab": {
          "base_uri": "https://localhost:8080/"
        },
        "id": "X-9AdnJS83QT",
        "outputId": "697571fd-6f01-4e06-b537-2f88d9aee8f8"
      },
      "execution_count": 3,
      "outputs": [
        {
          "output_type": "stream",
          "name": "stdout",
          "text": [
            "El producto más vendido fue Cuarzo tamboreado con una cantidad de 234 unidades vendidas.\n"
          ]
        }
      ]
    },
    {
      "cell_type": "code",
      "source": [
        "#Promedio de Precio por Producto: Crea un diccionario llamado precios_por_producto donde las claves sean los nombres de los productos\n",
        "#y los valores sean tuplas. Cada tupla debe contener dos elementos: la suma de los precios de venta de todas las unidades vendidas y la cantidad total de unidades vendidas.\n",
        "#Calcula el precio promedio de venta para cada producto utilizando la información de este diccionario.\n",
        "\n",
        "precios_por_producto = {}\n",
        "for venta in ventas:\n",
        "    producto = venta[\"producto\"]\n",
        "    precio = float(venta[\"precio\"].replace(\",\", \".\"))\n",
        "    cantidad = int(venta[\"cantidad\"])\n",
        "    if producto in precios_por_producto:\n",
        "        precios_por_producto[producto][0] += precio * cantidad\n",
        "        precios_por_producto[producto][1] += cantidad\n",
        "    else:\n",
        "        precios_por_producto[producto] = [precio * cantidad, cantidad]\n",
        "\n",
        "precios_promedio = {}\n",
        "for producto, (suma_precios, cantidad_total) in precios_por_producto.items():\n",
        "    precio_promedio = suma_precios / cantidad_total\n",
        "    precios_promedio[producto] = precio_promedio\n",
        "\n",
        "print(precios_por_producto)\n",
        "print(precios_promedio)\n",
        "\n"
      ],
      "metadata": {
        "colab": {
          "base_uri": "https://localhost:8080/"
        },
        "id": "SOlA5l3EBtTr",
        "outputId": "e878faa2-98ed-4357-82cc-230dab90c588"
      },
      "execution_count": 4,
      "outputs": [
        {
          "output_type": "stream",
          "name": "stdout",
          "text": [
            "{'Cuarzo maestro': [636.4, 62], 'Cuarzo tamboreado': [142.2, 234], 'Cuarzo geoda': [689.8, 20], 'Cuarzo drusa': [529.2, 18], 'Cuarzo matriz': [1123.2, 6]}\n",
            "{'Cuarzo maestro': 10.264516129032257, 'Cuarzo tamboreado': 0.6076923076923076, 'Cuarzo geoda': 34.489999999999995, 'Cuarzo drusa': 29.400000000000002, 'Cuarzo matriz': 187.20000000000002}\n"
          ]
        }
      ]
    },
    {
      "cell_type": "code",
      "source": [
        "#Ventas por Día: Crea un diccionario llamado ingresos_por_dia donde las claves sean las fechas y los valores sean los ingresos totales generados en cada día.\n",
        "#Utiliza un bucle para calcular los ingresos totales por día y almacenar estos valores en el diccionario.\n",
        "\n",
        "ingresos_por_dia = {}\n",
        "for venta in ventas:\n",
        "    fecha = venta[\"fecha\"]\n",
        "    precio = float(venta[\"precio\"].replace(\",\", \".\"))\n",
        "    cantidad = int(venta[\"cantidad\"])\n",
        "    ingresos = precio * cantidad\n",
        "    if fecha in ingresos_por_dia:\n",
        "        ingresos_por_dia[fecha] += ingresos\n",
        "    else:\n",
        "        ingresos_por_dia[fecha] = ingresos\n",
        "\n",
        "ingresos_por_dia\n"
      ],
      "metadata": {
        "colab": {
          "base_uri": "https://localhost:8080/"
        },
        "id": "HshYALfxCAe8",
        "outputId": "bb25919f-1082-4150-8d34-c9f86be52245"
      },
      "execution_count": 5,
      "outputs": [
        {
          "output_type": "execute_result",
          "data": {
            "text/plain": [
              "{'2024-01-01': 11.1,\n",
              " '2024-01-02': 4.5,\n",
              " '2024-01-03': 97.5,\n",
              " '2024-01-04': 66.6,\n",
              " '2024-01-05': 11.0,\n",
              " '2024-01-06': 166.3,\n",
              " '2024-01-07': 138.0,\n",
              " '2024-01-08': 93.3,\n",
              " '2024-01-09': 291.70000000000005,\n",
              " '2024-01-10': 111.1,\n",
              " '2024-01-11': 569.3,\n",
              " '2024-01-12': 11.1,\n",
              " '2024-01-13': 4.5,\n",
              " '2024-01-14': 33.3,\n",
              " '2024-01-15': 64.2,\n",
              " '2024-01-16': 66.6,\n",
              " '2024-01-17': 11.0,\n",
              " '2024-01-18': 111.1,\n",
              " '2024-01-19': 22.9,\n",
              " '2024-01-20': 32.3,\n",
              " '2024-01-21': 88.0,\n",
              " '2024-01-22': 50.0,\n",
              " '2024-01-23': 22.2,\n",
              " '2024-01-24': 4.5,\n",
              " '2024-01-25': 66.6,\n",
              " '2024-01-26': 88.8,\n",
              " '2024-01-27': 150.5,\n",
              " '2024-01-28': 22.2,\n",
              " '2024-01-29': 29.099999999999998,\n",
              " '2024-01-30': 1.1,\n",
              " '2024-01-31': 680.4000000000001}"
            ]
          },
          "metadata": {},
          "execution_count": 5
        }
      ]
    },
    {
      "cell_type": "code",
      "source": [
        "#Representación de Datos:\n",
        "#Crea un diccionario llamado resumen_ventas donde las claves sean los nombres de los productos y los valores sean diccionarios anidados. Cada diccionario anidado debe contener:\n",
        "#«cantidad_total»: la cantidad total vendida del producto.\n",
        "#«ingresos_totales»: los ingresos totales generados por la venta del producto.\n",
        "#«precio_promedio»: el precio promedio de venta del producto.\n",
        "\n",
        "resumen_ventas = {}\n",
        "for venta in ventas:\n",
        "    producto = venta[\"producto\"]\n",
        "    precio = float(venta[\"precio\"].replace(\",\", \".\"))\n",
        "    cantidad = int(venta[\"cantidad\"])\n",
        "    ingresos = precio * cantidad\n",
        "    if producto in resumen_ventas:\n",
        "        resumen_ventas[producto][\"cantidad_total\"] += cantidad\n",
        "        resumen_ventas[producto][\"ingresos_totales\"] += ingresos\n",
        "        resumen_ventas[producto][\"precio_promedio\"] = resumen_ventas[producto][\"ingresos_totales\"] / resumen_ventas[producto][\"cantidad_total\"]\n",
        "    else:\n",
        "        resumen_ventas[producto] = {\n",
        "            \"cantidad_total\": cantidad,\n",
        "            \"ingresos_totales\": ingresos,\n",
        "            \"precio_promedio\": precio\n",
        "        }\n",
        "\n",
        "resumen_ventas\n"
      ],
      "metadata": {
        "colab": {
          "base_uri": "https://localhost:8080/"
        },
        "id": "292ibeyrCaX7",
        "outputId": "81ffef78-5516-4fff-b0d4-7ffd5b976da2"
      },
      "execution_count": 6,
      "outputs": [
        {
          "output_type": "execute_result",
          "data": {
            "text/plain": [
              "{'Cuarzo maestro': {'cantidad_total': 62,\n",
              "  'ingresos_totales': 636.4,\n",
              "  'precio_promedio': 10.264516129032257},\n",
              " 'Cuarzo tamboreado': {'cantidad_total': 234,\n",
              "  'ingresos_totales': 142.2,\n",
              "  'precio_promedio': 0.6076923076923076},\n",
              " 'Cuarzo geoda': {'cantidad_total': 20,\n",
              "  'ingresos_totales': 689.8,\n",
              "  'precio_promedio': 34.489999999999995},\n",
              " 'Cuarzo drusa': {'cantidad_total': 18,\n",
              "  'ingresos_totales': 529.2,\n",
              "  'precio_promedio': 29.400000000000002},\n",
              " 'Cuarzo matriz': {'cantidad_total': 6,\n",
              "  'ingresos_totales': 1123.2,\n",
              "  'precio_promedio': 187.20000000000002}}"
            ]
          },
          "metadata": {},
          "execution_count": 6
        }
      ]
    },
    {
      "cell_type": "code",
      "source": [],
      "metadata": {
        "id": "7H9aiyJlDGNr"
      },
      "execution_count": 6,
      "outputs": []
    }
  ]
}