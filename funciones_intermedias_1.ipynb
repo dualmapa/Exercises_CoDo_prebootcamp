{
  "nbformat": 4,
  "nbformat_minor": 0,
  "metadata": {
    "colab": {
      "provenance": []
    },
    "kernelspec": {
      "name": "python3",
      "display_name": "Python 3"
    },
    "language_info": {
      "name": "python"
    }
  },
  "cells": [
    {
      "cell_type": "markdown",
      "source": [
        "# **Funciones intermedias (Core)**\n"
      ],
      "metadata": {
        "id": "Brr2ybCAYR4R"
      }
    },
    {
      "cell_type": "markdown",
      "source": [
        "1. Actualizar valores en diccionarios y listas\n",
        "\n"
      ],
      "metadata": {
        "id": "TgwuVGSW2GPI"
      }
    },
    {
      "cell_type": "code",
      "source": [
        "matriz = [ [10, 15, 20], [3, 7, 14] ]\n",
        "\n",
        "cantantes = [\n",
        "    {\"nombre\": \"Ricky Martin\", \"pais\": \"Puerto Rico\"},\n",
        "    {\"nombre\": \"Chayanne\", \"pais\": \"Puerto Rico\"}\n",
        "]\n",
        "\n",
        "ciudades = {\n",
        "    \"México\": [\"Ciudad de México\", \"Guadalajara\", \"Cancún\"],\n",
        "    \"Chile\": [\"Santiago\", \"Concepción\", \"Viña del Mar\"]\n",
        "}\n",
        "\n",
        "coordenadas = [\n",
        "    {\"latitud\": 8.2588997, \"longitud\": -84.9399704}\n",
        "]"
      ],
      "metadata": {
        "id": "nxF8tRgjYWwP"
      },
      "execution_count": null,
      "outputs": []
    },
    {
      "cell_type": "code",
      "source": [
        "#Cambia el valor de 3 en matriz por 6. Una vez realizado el cambio tu matriz debería ser: [ [10, 15, 20], [6, 7, 14] ]\n",
        "matriz[1][0] = 6\n",
        "print(matriz)\n",
        "\n",
        "#Cambia el nombre del primer cantante de “Ricky Martin” a “Enrique Martin Morales”\n",
        "cantantes[0][\"nombre\"] = \"Enrique Martin Morales\"\n",
        "print(cantantes)\n",
        "\n",
        "#En ciudades, cambia “Cancún” por “Monterrey”\n",
        "ciudades[\"México\"][2] = \"Monterrey\"\n",
        "print(ciudades)\n",
        "\n",
        "#En las coordenadas, cambia el valor de “latitud” por 9.9355431\n",
        "coordenadas[0][\"latitud\"] = 9.9355431\n",
        "print(coordenadas)\n"
      ],
      "metadata": {
        "colab": {
          "base_uri": "https://localhost:8080/"
        },
        "id": "cW_2S5JcyFxb",
        "outputId": "f040f89c-c404-4934-a860-ac767d85190a"
      },
      "execution_count": null,
      "outputs": [
        {
          "output_type": "stream",
          "name": "stdout",
          "text": [
            "[[10, 15, 20], [6, 7, 14]]\n",
            "[{'nombre': 'Enrique Martin Morales', 'pais': 'Puerto Rico'}, {'nombre': 'Chayanne', 'pais': 'Puerto Rico'}]\n",
            "{'México': ['Ciudad de México', 'Guadalajara', 'Monterrey'], 'Chile': ['Santiago', 'Concepción', 'Viña del Mar']}\n",
            "[{'latitud': 9.9355431, 'longitud': -84.9399704}]\n"
          ]
        }
      ]
    },
    {
      "cell_type": "markdown",
      "source": [
        "2. Iterar a través de una lista de diccionarios\n",
        "\n"
      ],
      "metadata": {
        "id": "HddMfgcn2JXr"
      }
    },
    {
      "cell_type": "code",
      "source": [
        "# Crea la función iterarDiccionario(lista) que reciba una lista de diccionarios y recorra cada diccionario de la lista e imprima cada llave y el valor correspondiente. Por ejemplo:\n",
        "cantantes = [\n",
        "    {\"nombre\": \"Ricky Martin\", \"pais\": \"Puerto Rico\"},\n",
        "    {\"nombre\": \"Chayanne\", \"pais\": \"Puerto Rico\"},\n",
        "    {\"nombre\": \"José José\", \"pais\": \"México\"},\n",
        "    {\"nombre\": \"Juan Luis Guerra\", \"pais\": \"República Dominicana\"}\n",
        "]\n",
        "\n",
        "def iterarDiccionario(lista):\n",
        "    for diccionario in lista:\n",
        "        for key, value in diccionario.items():\n",
        "            print(f\"{key}: {value}\\n\")\n",
        "\n",
        "iterarDiccionario(cantantes)"
      ],
      "metadata": {
        "colab": {
          "base_uri": "https://localhost:8080/"
        },
        "id": "xVaErfvg13Eu",
        "outputId": "4f0ba22f-3558-49b8-d974-f6a214875c84"
      },
      "execution_count": null,
      "outputs": [
        {
          "output_type": "stream",
          "name": "stdout",
          "text": [
            "nombre: Ricky Martin\n",
            "\n",
            "pais: Puerto Rico\n",
            "\n",
            "nombre: Chayanne\n",
            "\n",
            "pais: Puerto Rico\n",
            "\n",
            "nombre: José José\n",
            "\n",
            "pais: México\n",
            "\n",
            "nombre: Juan Luis Guerra\n",
            "\n",
            "pais: República Dominicana\n",
            "\n"
          ]
        }
      ]
    },
    {
      "cell_type": "code",
      "source": [
        "def iterarDiccionario(lista):\n",
        "    for diccionario in lista:\n",
        "        linea = \", \".join([f\"{clave} - {valor}\" for clave, valor in diccionario.items()])\n",
        "        print(linea)\n",
        "\n",
        "iterarDiccionario(cantantes)"
      ],
      "metadata": {
        "colab": {
          "base_uri": "https://localhost:8080/"
        },
        "id": "DUZqegjn2YaV",
        "outputId": "d42d05d1-be6a-4a77-cb6a-dda8bdd0ae3d"
      },
      "execution_count": null,
      "outputs": [
        {
          "output_type": "stream",
          "name": "stdout",
          "text": [
            "nombre - Ricky Martin, pais - Puerto Rico\n",
            "nombre - Chayanne, pais - Puerto Rico\n",
            "nombre - José José, pais - México\n",
            "nombre - Juan Luis Guerra, pais - República Dominicana\n"
          ]
        }
      ]
    },
    {
      "cell_type": "markdown",
      "source": [
        "3. Obtener valores de una lista de diccionarios\n",
        "\n"
      ],
      "metadata": {
        "id": "zVL-96z55PWX"
      }
    },
    {
      "cell_type": "code",
      "source": [
        "# Crea la función iterarDiccionario2(llave, lista) que reciba una cadena con el nombre de una llave y una lista de diccionarios. La función debe imprimir el valor almacenado para esa clave de cada diccionario que se encuentra en la lista. Por ejemplo, iterarDiccionario2(“nombre”, cantantes) debe de imprimir:\n",
        "def iterarDiccionario2(key, lista):\n",
        "    for diccionario in lista:\n",
        "        if key in diccionario:\n",
        "            print(diccionario[key])\n",
        "\n",
        "iterarDiccionario2(\"nombre\", cantantes)\n",
        "\n",
        "print(\"\\n\")\n",
        "\n",
        "# Otro ejemplo: iterarDiccionario2(“pais”, cantantes) debe de imprimir:\n",
        "iterarDiccionario2(\"pais\", cantantes)"
      ],
      "metadata": {
        "colab": {
          "base_uri": "https://localhost:8080/"
        },
        "id": "Isr5vCmI3rIV",
        "outputId": "04753efd-b204-4ec3-bac8-076c35392e39"
      },
      "execution_count": null,
      "outputs": [
        {
          "output_type": "stream",
          "name": "stdout",
          "text": [
            "Ricky Martin\n",
            "Chayanne\n",
            "José José\n",
            "Juan Luis Guerra\n",
            "\n",
            "\n",
            "Puerto Rico\n",
            "Puerto Rico\n",
            "México\n",
            "República Dominicana\n"
          ]
        }
      ]
    },
    {
      "cell_type": "markdown",
      "source": [
        "4. Iterar a través de un diccionario con valores de lista\n",
        "\n"
      ],
      "metadata": {
        "id": "0ha1XGEw5yB-"
      }
    },
    {
      "cell_type": "code",
      "source": [
        "#Crea una función imprimirInformacion(diccionario) que reciba un diccionario en donde los valores son listas. La función debe imprimir el nombre de cada clave junto con el tamaño de su lista y seguido de esto los valores de la lista para esa clave. Por ejemplo:\n",
        "\n",
        "costa_rica = {\n",
        "    \"ciudades\": [\"San José\", \"Limón\", \"Cartago\", \"Puntarenas\"],\n",
        "    \"comidas\": [\"gallo pinto\", \"casado\", \"tamales\", \"chifrijo\", \"olla de carne\"]\n",
        "}\n",
        "\n",
        "def imprimirInformacion(diccionario):\n",
        "  for key, value in diccionario.items():\n",
        "    print(f\"{key}: {len(value)}\")\n",
        "    for item in value:\n",
        "      print(item)\n",
        "    print(\"\\n\" + \"-\" * 30 + \"\\n\")\n",
        "\n",
        "imprimirInformacion(costa_rica)"
      ],
      "metadata": {
        "colab": {
          "base_uri": "https://localhost:8080/"
        },
        "id": "HC1CMCWA5dvl",
        "outputId": "c81781c6-1ea5-4fc8-b256-663e72b942f4"
      },
      "execution_count": null,
      "outputs": [
        {
          "output_type": "stream",
          "name": "stdout",
          "text": [
            "ciudades: 4\n",
            "San José\n",
            "Limón\n",
            "Cartago\n",
            "Puntarenas\n",
            "\n",
            "------------------------------\n",
            "\n",
            "comidas: 5\n",
            "gallo pinto\n",
            "casado\n",
            "tamales\n",
            "chifrijo\n",
            "olla de carne\n",
            "\n",
            "------------------------------\n",
            "\n"
          ]
        }
      ]
    },
    {
      "cell_type": "code",
      "source": [],
      "metadata": {
        "id": "NEZGozEc5_d8"
      },
      "execution_count": null,
      "outputs": []
    }
  ]
}